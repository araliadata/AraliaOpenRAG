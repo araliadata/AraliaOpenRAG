{
  "nbformat": 4,
  "nbformat_minor": 0,
  "metadata": {
    "colab": {
      "provenance": [],
      "private_outputs": true,
      "include_colab_link": true
    },
    "kernelspec": {
      "name": "python3",
      "display_name": "Python 3"
    },
    "language_info": {
      "name": "python"
    }
  },
  "cells": [
    {
      "cell_type": "markdown",
      "metadata": {
        "id": "view-in-github",
        "colab_type": "text"
      },
      "source": [
        "<a href=\"https://colab.research.google.com/github/araliadata/AraliaOpenRAG/blob/main/Interactive_Notebook_Understanding_AI_Powered_Tools_Development_and_Aralia_OpenRAG.ipynb\" target=\"_parent\"><img src=\"https://colab.research.google.com/assets/colab-badge.svg\" alt=\"Open In Colab\"/></a>"
      ]
    },
    {
      "cell_type": "markdown",
      "metadata": {
        "id": "6QX2gq0t6uN2"
      },
      "source": [
        "*This documentation and associated AI-powered tools tutorial is released under the [MIT License](https://opensource.org/license/mit), which permits any type of modification and commercialization.*"
      ]
    },
    {
      "cell_type": "markdown",
      "metadata": {
        "id": "3S1psfLVR-s3"
      },
      "source": [
        "# Interactive Notebook: Understanding AI-Powered Tools Development and Aralia OpenRAG"
      ]
    },
    {
      "cell_type": "markdown",
      "metadata": {
        "id": "lQowGFh662IG"
      },
      "source": [
        "This interactive notebook guides you through the process of designing AI-powered tools tapping into the Aralia Open Data Ecosystem using the Aralia OpenRAG SDK. Each section provides sample code and explanations to facilitate your exploration and development of AI-powered tools.\n",
        "\n",
        "\n",
        "Feel free to edit the code within this notebook, however, any changes will not be saved. If you'd like to save the changes, please first create a new copy.\n",
        "\n",
        "Helpful comments are added to each code block (preceded with #). If you are required to input information, a comment (preceded with ##) will also inform you to do so. If this is your first time using this demo, we recommend following the flow of this demo, executing each code block one by one and fill in variables as needed.\n",
        "\n",
        "If you would like to try out the results directly, please execute the cells under the **Setup** section, ensure there are no errors, and try it out in  **Section 2: AI-Powered Tools Workflow Execution** section."
      ]
    },
    {
      "cell_type": "markdown",
      "metadata": {
        "id": "Jt9R_W-bNSWa"
      },
      "source": [
        "### Aralia OpenRAG Developer's Guide"
      ]
    },
    {
      "cell_type": "markdown",
      "metadata": {
        "id": "Zc0WrwYv7Pj6"
      },
      "source": [
        "For setup instructions and other usage tips for the Aralia OpenRAG SDK, go over to the [Aralia OpenRAG Developer's Guide](https://deciduous-centipede-9d7.notion.site/AI-269ddf94fd148147b05dc28100ad84a8) for an overview."
      ]
    },
    {
      "cell_type": "markdown",
      "metadata": {
        "id": "6hKdtzEa7TYu"
      },
      "source": [
        "## **Section 1: AI Workflow Tutorial: Sequential Tools**\n",
        "\n",
        "If you need to implement more complex process control in AI Workflow applications, you can achieve this through the Sequential Tools model. This tutorial will demonstrate an example that starts with a user's question, retrieves real-time data through Aralia Data Planet, and generates a truly \"evidence-based\" answer for the user. This example uses a series of steps to help you understand how to leverage multiple Nodes in LangGraph, each with its own responsibility, and combine them into an intelligent and controllable multi-step process."
      ]
    },
    {
      "cell_type": "markdown",
      "metadata": {
        "id": "dkF0B0DTwp5z"
      },
      "source": [
        "### Overall Process Description\n"
      ]
    },
    {
      "cell_type": "markdown",
      "metadata": {
        "id": "LL5XNO1Qwu7a"
      },
      "source": [
        "1. Search Aralia Data Planet Datasets: Search for matching datasets in Data Planet using the user's question.\n",
        "2. Generate Aralia Data Exploration Query: Use a language model to formulate a query statement based on the user's question and the identified datasets.\n",
        "3. Refine Data Exploration Query: Improve precision and accuracy of the query by adding filter parameters  based on the user's question.\n",
        "4. Execute Query: Connect to Data Planet using Aralia Tools, execute the generated query, and retrieve the results.\n",
        "5. Respond to the User: Analyze the query results using a language model or custom logic, and provide a final response to the user\n"
      ]
    },
    {
      "cell_type": "markdown",
      "metadata": {
        "id": "JKoOWubj8fyy"
      },
      "source": [
        "### **1.1 Install Aralia OpenRAG SDK and AI Development Tools**\n",
        "Before you start using the Aralia OpenRAG SDK for your project, you will need to install and configure the necessary packages first. Follow these easy steps to quickly complete the installation and basic setup."
      ]
    },
    {
      "cell_type": "markdown",
      "metadata": {
        "id": "HERiI2Oz8iEi"
      },
      "source": [
        "**Install the Aralia OpenRAG SDK**\n",
        "\n",
        "Grab the Aralia OpenRAG SDK from GitHub.\n"
      ]
    },
    {
      "cell_type": "code",
      "execution_count": null,
      "metadata": {
        "id": "CR87-5Mq8lLh"
      },
      "outputs": [],
      "source": [
        "# Run this cell to install the Aralia OpenRAG SDK.\n",
        "\n",
        "! pip install git+https://github.com/araliadata/AraliaOpenRAG.git"
      ]
    },
    {
      "cell_type": "markdown",
      "metadata": {
        "id": "0Qzn97m18r80"
      },
      "source": [
        "**Install required Python packages**\n",
        "\n",
        "These are the additional packages needed for AI-powered tools."
      ]
    },
    {
      "cell_type": "code",
      "execution_count": null,
      "metadata": {
        "id": "7ZYspcLZ8sjr"
      },
      "outputs": [],
      "source": [
        "# Run this cell to install additional necessary packages.\n",
        "\n",
        "! pip install langgraph dotenv langchain_openai langchain_anthropic langchain_google_genai"
      ]
    },
    {
      "cell_type": "markdown",
      "metadata": {
        "id": "X8y9zx6o8y9z"
      },
      "source": [
        "**Import Aralia OpenRAG and other necessary modules**\n",
        "\n",
        "After the installation is complete, you can then import the necessary modules and they are now ready to be used:"
      ]
    },
    {
      "cell_type": "code",
      "execution_count": null,
      "metadata": {
        "id": "rWup4QE582lS"
      },
      "outputs": [],
      "source": [
        "# Run this cell to import the necessary modules.\n",
        "\n",
        "from nodes import SearchNode, PlanningNode, FilterDecisionNode, ExecutionNode, InterpretationNode\n",
        "from core.graph import AraliaAssistantGraph\n",
        "from core.state import GraphState, SearchResult\n",
        "from core.config import AraliaConfig\n",
        "from tools.aralia import AraliaClient\n",
        "\n",
        "from langchain_google_genai import ChatGoogleGenerativeAI\n",
        "from langchain_anthropic import ChatAnthropic\n",
        "from langchain_openai import ChatOpenAI\n",
        "\n",
        "from typing import TypedDict, Dict, List, Any, Optional, Annotated\n",
        "from operator import add\n",
        "import pandas as pd\n",
        "import os"
      ]
    },
    {
      "cell_type": "markdown",
      "metadata": {
        "id": "dURBQdiS9MTJ"
      },
      "source": [
        "### **1.2 Getting your favorite LLM API key (OpenAI, Gemini, Anthropic)**"
      ]
    },
    {
      "cell_type": "markdown",
      "metadata": {
        "id": "HEaZuKeS9O36"
      },
      "source": [
        "*For the purpose of this demo, we are using Google's LLM, Gemini. Please set up using the Gemini API key. For advanced users, feel free to experiment with different LLMs.*\n",
        "\n",
        "\n",
        "1. Follow the [instructions](https://colab.research.google.com/drive/1LKJVjt62qTrlw-cIIk4PNKF_ZVYJ1FTx#scrollTo=HF1F85Lx_v1U) and scroll down to the **Getting your favorite LLM API keys (OpenAI, Gemini, Anthropic)** section to get the API key to access your favorite LLM.\n",
        "\n",
        "2. Open the \"Secrets\" tab on the left sidebar with this![image.png](data:image/png;base64,iVBORw0KGgoAAAANSUhEUgAAACEAAAAdCAYAAAAkXAW5AAAAAXNSR0IArs4c6QAAAARnQU1BAACxjwv8YQUAAAAJcEhZcwAADsMAAA7DAcdvqGQAAAHTSURBVFhH7ZXLSwJRFMb948qUCk0t07QX1bKHFVL7EMKEsla5THOXkBgUlLawjZC7XJgiDi60jYhiiJ44F+5wxxlNnaFczAffYs7ce85vzn2MBsZAmu7Af0iFoFIhqMYfot1uA8dxkHh9hdhDDJ7jL5DP50lcSUlCdDodSKVSsLy6AhNTWpHnF63w+PSkGIwIAhMHQyHQ6nWi4qwndVNw5vNBq9XqTjG0RBC34TApgIXmLGa4j0ahVquRd83vJsQTCUGHrgMB0jk5EkB85nJgsS6Q5Cvra1DkiuxrXtVqFfYO9sk47JjVbgO70zGU/VeXfD4BxE0oSBLPGg3wnk6TGH5loVAgG/Mjk+H3AQs8ik88Hr4uD4Gtdh8fkQGHbjd5Rr3E46CfmSZxXCbcLwiGPvdfiL6wn7FjdK9JQtQbDdh1uQQD2Bj1ktMBla8Kn2AY4Tyc3xuiXoft3R0hBBOjtjmWoFwu8wmG0a8QSi/HxtYmZLNZkuMuEhlsOVBKbkyDaY6MZ/Oy7gmhxBE1mk09IbCTeNviuJ5HFCX3sqIFpSDYGCsRhNxrW6r11ANDoOT8wBSDoBrlV558S8Kp1ytpPE2lUql7Sn+Iv5IKQaVCUI0FxA/OhCPhwp/LlAAAAABJRU5ErkJggg==) icon.\n",
        "\n",
        "3. Click \"Add new secret\" and copy and paste the following name(s) under **Name** to add to your list of secrets:\n",
        "\n",
        "    a. `GEMINI_API_KEY`\n",
        "\n",
        "    b. `OPENAI_API_KEY`\n",
        "\n",
        "    c. `ANTHROPIC_API_KEY`\n",
        "\n",
        "4. Enter the corresponding API key under **Value** in the Secrets tab."
      ]
    },
    {
      "cell_type": "markdown",
      "metadata": {
        "id": "MBxMTZZ_9RJI"
      },
      "source": [
        "### **1.3 Getting an Aralia user account**"
      ]
    },
    {
      "cell_type": "markdown",
      "metadata": {
        "id": "r4FBSRtJ9XXq"
      },
      "source": [
        "You will need a valid Aralia account in order to use Aralia OpenRAG. Ensure that you have logged in to Aralia's platform before with this set of client ID and client secret.\n",
        "\n",
        "1. Follow the [instructions](https://colab.research.google.com/drive/1LKJVjt62qTrlw-cIIk4PNKF_ZVYJ1FTx#scrollTo=Sr_4es38FPa1) to get your free account.\n",
        "\n",
        "2. Open the \"Secrets\" tab on the left sidebar with this![image.png](data:image/png;base64,iVBORw0KGgoAAAANSUhEUgAAACEAAAAdCAYAAAAkXAW5AAAAAXNSR0IArs4c6QAAAARnQU1BAACxjwv8YQUAAAAJcEhZcwAADsMAAA7DAcdvqGQAAAHTSURBVFhH7ZXLSwJRFMb948qUCk0t07QX1bKHFVL7EMKEsla5THOXkBgUlLawjZC7XJgiDi60jYhiiJ44F+5wxxlNnaFczAffYs7ce85vzn2MBsZAmu7Af0iFoFIhqMYfot1uA8dxkHh9hdhDDJ7jL5DP50lcSUlCdDodSKVSsLy6AhNTWpHnF63w+PSkGIwIAhMHQyHQ6nWi4qwndVNw5vNBq9XqTjG0RBC34TApgIXmLGa4j0ahVquRd83vJsQTCUGHrgMB0jk5EkB85nJgsS6Q5Cvra1DkiuxrXtVqFfYO9sk47JjVbgO70zGU/VeXfD4BxE0oSBLPGg3wnk6TGH5loVAgG/Mjk+H3AQs8ik88Hr4uD4Gtdh8fkQGHbjd5Rr3E46CfmSZxXCbcLwiGPvdfiL6wn7FjdK9JQtQbDdh1uQQD2Bj1ktMBla8Kn2AY4Tyc3xuiXoft3R0hBBOjtjmWoFwu8wmG0a8QSi/HxtYmZLNZkuMuEhlsOVBKbkyDaY6MZ/Oy7gmhxBE1mk09IbCTeNviuJ5HFCX3sqIFpSDYGCsRhNxrW6r11ANDoOT8wBSDoBrlV558S8Kp1ytpPE2lUql7Sn+Iv5IKQaVCUI0FxA/OhCPhwp/LlAAAAABJRU5ErkJggg==) icon.\n",
        "\n",
        "3. Click \"Add new secret\" and copy and paste the following name(s) under **Name** to add to your list of secrets:\n",
        "\n",
        "    `ARALIA_CLIENT_ID`\n",
        "\n",
        "    `ARALIA_CLIENT_SECRET`\n",
        "\n",
        "4. Enter the corresponding credentials under **Value** in the Secrets tab (`ARALIA_CLIENT_ID` is your Aralia AI client ID; `ARALIA_CLIENT_SECRET` is your Aralia AI client secret)."
      ]
    },
    {
      "cell_type": "markdown",
      "metadata": {
        "id": "2_YO-XYW9aYo"
      },
      "source": [
        "### **1.4 Setting credentials for your AI-powered tools**"
      ]
    },
    {
      "cell_type": "markdown",
      "metadata": {
        "id": "dOykaVgw9eZ6"
      },
      "source": [
        "Carefully read the [instructions](https://colab.research.google.com/drive/1LKJVjt62qTrlw-cIIk4PNKF_ZVYJ1FTx#scrollTo=7wOdR7dZAD1E) to set up the credentials for Aralia OpenRAG.\n",
        "\n",
        "Then execute the following code snippet to finalize your environment."
      ]
    },
    {
      "cell_type": "code",
      "execution_count": null,
      "metadata": {
        "id": "3w9YfmHt9i-8"
      },
      "outputs": [],
      "source": [
        "# Run this cell to set API keys/credentials.\n",
        "\n",
        "if \"COLAB_GPU\" in os.environ:\n",
        "    from google.colab import userdata\n",
        "\n",
        "    def get_secret(key):\n",
        "        try:\n",
        "            secret = userdata.get(key)\n",
        "            print(f\"Retrieved secret '{key}' from Colab userdata!\")\n",
        "            return secret\n",
        "        except userdata.SecretNotFoundError as e:\n",
        "            print(\n",
        "                f\"The secret '{key}' was not found. \"\n",
        "                \"If in Google Colab, add it via the key icon in the left sidebar.\"\n",
        "            )\n",
        "            return \"\"\n",
        "\n",
        "    os.environ[\"GEMINI_API_KEY\"] = get_secret('GEMINI_API_KEY')\n",
        "    os.environ[\"OPENAI_API_KEY\"] = get_secret('OPENAI_API_KEY')\n",
        "    os.environ[\"ANTHROPIC_API_KEY\"] = get_secret('ANTHROPIC_API_KEY')\n",
        "\n",
        "    os.environ[\"ARALIA_CLIENT_ID\"] = get_secret('ARALIA_CLIENT_ID')\n",
        "    os.environ[\"ARALIA_CLIENT_SECRET\"] = get_secret('ARALIA_CLIENT_SECRET')\n",
        "\n",
        "else:\n",
        "    from dotenv import load_dotenv\n",
        "    load_dotenv()"
      ]
    },
    {
      "cell_type": "markdown",
      "metadata": {
        "id": "TWHCfJCc_tvJ"
      },
      "source": [
        "### **1.5 Choose an Aralia API endpoint**"
      ]
    },
    {
      "cell_type": "code",
      "execution_count": null,
      "metadata": {
        "id": "G9VrmT15_vo5"
      },
      "outputs": [],
      "source": [
        "# Run this cell to set the API endpoint URL.\n",
        "\n",
        "sso_url = \"https://marketing-sso.araliadata.io\"\n",
        "planet_url = \"https://global-un.araliadata.io\""
      ]
    },
    {
      "cell_type": "markdown",
      "source": [
        "### **1.6 Choose a LLM**"
      ],
      "metadata": {
        "id": "XQq3fqPyiT6I"
      }
    },
    {
      "cell_type": "code",
      "source": [
        "# Run this cell to set your LLM API key and model\n",
        "# You can configure different providers:\n",
        "\n",
        "# For Gemini (Google):\n",
        "llm_api_key = os.getenv(\"GEMINI_API_KEY\")\n",
        "llm_model = \"gemini-2.0-flash\"\n",
        "\n",
        "# For OpenAI:\n",
        "## llm_api_key = os.getenv(\"OPENAI_API_KEY\")\n",
        "## llm_model = \"gpt-4o\"\n",
        "\n",
        "# For Anthropic:\n",
        "## llm_api_key = os.getenv(\"ANTHROPIC_API_KEY\")\n",
        "## llm_model = \"claude-3-5-sonnet-20241022\""
      ],
      "metadata": {
        "id": "Du9lrfEBihXc"
      },
      "execution_count": null,
      "outputs": []
    },
    {
      "cell_type": "markdown",
      "metadata": {
        "id": "Qlm0NFfj-OqW"
      },
      "source": [
        "## **Section 2: AI-Powered Tools Workflow Execution**\n"
      ]
    },
    {
      "cell_type": "markdown",
      "metadata": {
        "id": "6VNKjy8b-QOF"
      },
      "source": [
        "The tool workflow is defined using the `AraliaAssistantGraph` class, which connects the nodes in a sequence.\n",
        "\n",
        "The nodes are executed in the following sequence:\n",
        "1. `aralia_search`: Searches for relevant datasets.\n",
        "2. `analytics_planning`: Plans the analytics process.\n",
        "3. `filter_decision`: Determines filtering criteria.\n",
        "4. `analytics_execution`: Executes the analytics process.\n",
        "5. `interpretation`: Generates the final response.\n"
      ]
    },
    {
      "cell_type": "markdown",
      "metadata": {
        "id": "7TC2vJGmWg1U"
      },
      "source": [
        "**Tool workflow overview**"
      ]
    },
    {
      "cell_type": "markdown",
      "metadata": {
        "id": "XtO3vlbOBuZ8"
      },
      "source": [
        "![5-tools.svg](data:image/svg+xml;base64,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)"
      ]
    },
    {
      "cell_type": "markdown",
      "metadata": {
        "id": "e1_iF6kR4lm0"
      },
      "source": [
        "### **Try it yourself**"
      ]
    },
    {
      "cell_type": "markdown",
      "metadata": {
        "id": "0isMwLfxElvL"
      },
      "source": [
        "**Run your node workflow**"
      ]
    },
    {
      "cell_type": "code",
      "execution_count": null,
      "metadata": {
        "id": "d6f-ioDW-SKW"
      },
      "outputs": [],
      "source": [
        "# Run this cell to see the outputs of the complete tool workflow.\n",
        "\n",
        "## Enter your question within the quotation marks.\n",
        "question = \"Is there a relationship between the average GDP growth at purchasers' prices from 2021 to 2024 and gini coefficient of each state in Malaysia in 2024?\"\n",
        "\n",
        "# Create configuration\n",
        "config = AraliaConfig(\n",
        "    aralia_sso_url=sso_url,\n",
        "    aralia_client_id=os.getenv(\"ARALIA_CLIENT_ID\"),\n",
        "    aralia_client_secret=os.getenv(\"ARALIA_CLIENT_SECRET\"),\n",
        "    aralia_stellar_url=planet_url,\n",
        "    verbose=True,\n",
        "    log_level=\"WARNING\"\n",
        ")\n",
        "\n",
        "assistant_graph = AraliaAssistantGraph(config)\n",
        "\n",
        "# Execute the workflow\n",
        "response = assistant_graph.invoke({\n",
        "    \"question\": question,\n",
        "    \"ai\": llm_api_key,  # API key for LLM\n",
        "})"
      ]
    },
    {
      "cell_type": "markdown",
      "metadata": {
        "id": "gvqAMpwXxya6"
      },
      "source": [
        "## **Section 3: AI-powered tools Deep Dive**"
      ]
    },
    {
      "cell_type": "markdown",
      "metadata": {
        "id": "gQNc57fyy7F5"
      },
      "source": [
        "Welcome! This tutorial section will walk you through how AI-powered tools work, step by step. We'll cover the important bits, like:\n",
        "\n",
        "- What is \"State\"? We'll look at how nodes understand their situation.\n",
        "- What are Nodes: Think of these as the action points or decision steps for a node workflow.\n",
        "- Writing good prompts: Learn how to ask the LLM the right things to get the results you want.\n",
        "- Node steps and why they matter: We'll break down what each node does and its job in the bigger picture."
      ]
    },
    {
      "cell_type": "markdown",
      "metadata": {
        "id": "RvxDYyzvRw9e"
      },
      "source": [
        "### **3.1 State Definition**\n"
      ]
    },
    {
      "cell_type": "markdown",
      "metadata": {
        "id": "YkMY3ffj_F7A"
      },
      "source": [
        "The `GraphState` class is used to manage the state of the system as it progresses through different nodes. It includes the following fields:\n",
        "\n",
        "\n",
        "\n",
        "**Input parameters:**\n",
        "- **`question`**: The user's query.\n",
        "- **`ai`**: The LLM instance for processing.\n",
        "- **`config`**: Configuration dictionary.\n",
        "\n",
        "\n",
        "**Aralia-specific inputs:**\n",
        "- **`aralia_sso_url`**: Aralia SSO URL.\n",
        "- **`aralia_stellar_url`**: Aralia Stellar URL.\n",
        "- **`aralia_client_id`**: Aralia client ID.\n",
        "- **`aralia_client_secret`**: Aralia client secret.\n",
        "\n",
        "\n",
        "**Processing state:**\n",
        "- **`search_results`**: List of search results from dataset discovery.\n",
        "- **`selected_datasets`**: Datasets selected for analysis.\n",
        "- **`query_plan`**: Generated analytics plan.\n",
        "- **`filter_options`**: Available filter options for datasets.\n",
        "\n",
        "\n",
        "**Output:**\n",
        "- **`response`**: Intermediate response from nodes.\n",
        "- **`final_response`**: Final formatted response.\n",
        "\n",
        "\n",
        "**System state:**\n",
        "- **`errors`**: List of errors encountered during execution.\n",
        "- **`execution_metadata`**: Metadata about the execution process.\n",
        "- **`at`**: AraliaClient instance for interacting with the Aralia platform.\n",
        "- **`verbose`**: Flag to enable or disable verbose output.\n",
        "\n",
        "\n",
        "The state is passed between nodes to maintain context and data throughout the workflow. Each node updates the state with its results, ensuring that subsequent nodes have access to the necessary information."
      ]
    },
    {
      "cell_type": "code",
      "execution_count": null,
      "metadata": {
        "id": "LWVAXj2-H5yb"
      },
      "outputs": [],
      "source": [
        "class GraphState(TypedDict):\n",
        "    \"\"\"LangGraph state definition following official best practices.\n",
        "\n",
        "    This state object maintains all information needed throughout the\n",
        "    graph execution, including inputs, intermediate results, and outputs.\n",
        "    \"\"\"\n",
        "\n",
        "    # Input parameters\n",
        "    question: str  # User's question\n",
        "    ai: Any  # LLM instance (will be set by graph)\n",
        "    config: Dict[str, Any]  # Configuration dictionary\n",
        "\n",
        "    # Aralia-specific inputs\n",
        "    aralia_sso_url: Optional[str]\n",
        "    aralia_stellar_url: Optional[str]\n",
        "    aralia_client_id: Optional[str]\n",
        "    aralia_client_secret: Optional[str]\n",
        "\n",
        "    # Processing state\n",
        "    search_results: Annotated[List[SearchResult], add]\n",
        "    selected_datasets: Optional[List[Dict[str, Any]]]\n",
        "    query_plan: Optional[Dict[str, Any]]\n",
        "    filter_options: Optional[List[Dict[str, Any]]]\n",
        "\n",
        "    # Output\n",
        "    response: Optional[Any]  # Intermediate response\n",
        "    final_response: Optional[str]  # Final formatted response\n",
        "\n",
        "    # System state\n",
        "    errors: Annotated[List[str], add]\n",
        "    execution_metadata: Dict[str, Any]\n",
        "\n",
        "    # Required for current implementation\n",
        "    at: Optional[Any]  # AraliaClient instance\n",
        "    verbose: Optional[bool]"
      ]
    },
    {
      "cell_type": "markdown",
      "metadata": {
        "id": "9PLptFSTS0o5"
      },
      "source": [
        "### **3.2 Node Definitions**\n"
      ]
    },
    {
      "cell_type": "markdown",
      "metadata": {
        "id": "zE4QBS08S6bs"
      },
      "source": [
        "Nodes are modular functions that perform specific tasks in the workflow. Each node takes the `state` as input, processes it, and returns an updated state.\n"
      ]
    },
    {
      "cell_type": "markdown",
      "metadata": {
        "id": "N_BBkeMzS8x9"
      },
      "source": [
        "#### **3.2.1 `aralia_search`**"
      ]
    },
    {
      "cell_type": "markdown",
      "metadata": {
        "id": "j5HOgyAj_wvQ"
      },
      "source": [
        "- **Purpose**: Searches for datasets on the Aralia platform that are relevant to the user's query.\n",
        "- **Key Steps**:\n",
        "  1. Uses the `search_datasets` method from `AraliaClient` to retrieve datasets.\n",
        "  2. Filters datasets using a prompt template (`DATASET_EXTRACT`) and an AI model.\n",
        "  3. Handles retries to ensure robust dataset extraction.\n",
        "- **Output**: Updates the GraphState with `response` containing the filtered datasets.\n"
      ]
    },
    {
      "cell_type": "markdown",
      "metadata": {
        "id": "UZc5i4e9lcpW"
      },
      "source": [
        "##### **Prompt**"
      ]
    },
    {
      "cell_type": "markdown",
      "metadata": {
        "id": "Nx6ygWpavHGS"
      },
      "source": [
        "The default `aralia_search` prompt:"
      ]
    },
    {
      "cell_type": "markdown",
      "metadata": {
        "id": "_XUxklFPHCc3"
      },
      "source": [
        "```\n",
        "You are an expert data analyst tasked with filtering datasets based on relevance to a user's question.\n",
        "\n",
        "**Task**: For the following question, identify and retain only the most directly relevant datasets.\n",
        "Remove any datasets that are indirect, redundant, or tangentially related.\n",
        "\n",
        "**Question**: {question}\n",
        "\n",
        "**Available Datasets**: {datasets}\n",
        "\n",
        "**Instructions**:\n",
        "1. Analyze the core intent and key entities in the question\n",
        "2. Evaluate each dataset's relevance to answering the question\n",
        "3. Prioritize datasets that directly contain the required information\n",
        "4. Remove datasets that are only tangentially related\n",
        "5. Aim for quality over quantity - better to have fewer highly relevant datasets\n",
        "\n",
        "Return the dataset keys and names for the most relevant datasets only.\n",
        "```"
      ]
    },
    {
      "cell_type": "markdown",
      "metadata": {
        "id": "kCH-b93PTVXm"
      },
      "source": [
        "##### **Try it yourself**\n"
      ]
    },
    {
      "cell_type": "markdown",
      "metadata": {
        "id": "XPGB288sZ-zd"
      },
      "source": [
        "**Run your node**"
      ]
    },
    {
      "cell_type": "code",
      "execution_count": null,
      "metadata": {
        "id": "LKPNHH1SH5ql"
      },
      "outputs": [],
      "source": [
        "# Run this cell to see the outputs of the aralia_search node.\n",
        "\n",
        "## Enter your question within the quotation marks.\n",
        "question  = \"What is the average GDP growth rate of each state in Malaysia in 2019?\"\n",
        "\n",
        "# Create Aralia client\n",
        "aralia_client = AraliaClient(\n",
        "    client_id=os.getenv(\"ARALIA_CLIENT_ID\"),\n",
        "    client_secret=os.getenv(\"ARALIA_CLIENT_SECRET\"),\n",
        "    sso_url=sso_url,\n",
        "    stellar_url=planet_url\n",
        ")\n",
        "\n",
        "# Define state\n",
        "state = GraphState(\n",
        "    question=question,\n",
        "    at=aralia_client,\n",
        "    # ai=ChatAnthropic(api_key=os.environ[\"ANTHROPIC_API_KEY\"], model=\"claude-3-5-sonnet-20240620\", temperature=0),\n",
        "    # ai=ChatOpenAI(api_key=os.environ[\"OPENAI_API_KEY\"], model=\"gpt-4o\", temperature=0),\n",
        "    ai=ChatGoogleGenerativeAI(api_key=llm_api_key, model=llm_model, temperature=0), # Please use Gemini for a smooth experience. Advanced users may try with a different LLM.\n",
        "    verbose=True,\n",
        ")\n",
        "\n",
        "# Run the node\n",
        "response1 = SearchNode().execute(state)\n",
        "# response1"
      ]
    },
    {
      "cell_type": "markdown",
      "metadata": {
        "id": "ZD_6KeAvWz_b"
      },
      "source": [
        "#### **3.2.2 `analytics_planning`**\n"
      ]
    },
    {
      "cell_type": "markdown",
      "metadata": {
        "id": "7PeDUetz_802"
      },
      "source": [
        "- **Purpose**: Plans the analytics process by selecting relevant columns and chart specifications for the datasets.\n",
        "- **Key Steps**:\n",
        "  1. Retrieves column metadata for the datasets using `get_dataset_metadata`.\n",
        "  2. Uses a prompt template (`CHART_PLOTTING`) to generate chart specifications.\n",
        "  3. Filters and formats the datasets based on the AI response.\n",
        "  4. Handles retries for robust processing.\n",
        "- **Output**: Updates the GraphState with `response` containing the filtered datasets and chart specifications."
      ]
    },
    {
      "cell_type": "markdown",
      "metadata": {
        "id": "ijpyMi14lm4T"
      },
      "source": [
        "##### **Prompt**"
      ]
    },
    {
      "cell_type": "markdown",
      "metadata": {
        "id": "yuGk8vJGv93M"
      },
      "source": [
        "The default `analytics_planning` prompt:"
      ]
    },
    {
      "cell_type": "markdown",
      "metadata": {
        "id": "K-11wFsmLrGA"
      },
      "source": [
        "```\n",
        "# ROLE AND OBJECTIVE\n",
        "You are a senior data analyst expert, skilled in data exploration, correlation analysis, and effective data visualization design.\n",
        "\n",
        "**Objective**: Based on the user's question, analyze each provided dataset and propose **only one specific chart proposal per relevant dataset** that most effectively answers the question.\n",
        "\n",
        "# INPUT INFORMATION\n",
        "- **Question:** {question}\n",
        "- **Datasets:** {datasets} (includes dataset descriptions, column names, column types, and metadata)\n",
        "- **Administrative Levels:** {admin_level}\n",
        "\n",
        "# ANALYSIS FRAMEWORK\n",
        "Execute the following phases systematically, documenting your thought process for each step:\n",
        "\n",
        "## Phase 1: Problem Analysis\n",
        "**Deep Question Understanding:**\n",
        "- Analyze the user's question intent and break it down into components\n",
        "- Identify key entities, metrics, and analytical requirements\n",
        "\n",
        "**Dimension Classification (Critical):**\n",
        "Distinguish between two types of dimensions:\n",
        "\n",
        "1. **主軸維度 (Primary Axis Dimension):**\n",
        "   - Forms the chart's main axis (typically x-axis)\n",
        "   - Examples: time series, continuous numerical ranges\n",
        "   - Usually only one per chart\n",
        "\n",
        "2. **分類比較維度 (Grouping/Comparison Dimension):**\n",
        "   - Categorical fields for grouping/comparing metrics\n",
        "   - Examples: store names, product types, geographic regions\n",
        "   - Can have multiple dimensions\n",
        "\n",
        "**Documentation:** Record your analysis explicitly listing:\n",
        "- Identified metrics\n",
        "- Primary axis dimensions  \n",
        "- Grouping/comparison dimensions\n",
        "\n",
        "## Phase 2: Dataset Curation\n",
        "- Retain only the most relevant datasets for answering the question\n",
        "- Remove datasets that are indirect, redundant, or tangentially related\n",
        "- Prioritize quality over quantity\n",
        "\n",
        "## Phase 3: Column Selection\n",
        "- For each selected dataset, identify the **minimum necessary columns** to answer the question\n",
        "- Focus on essential fields that directly contribute to the analysis\n",
        "\n",
        "## Phase 4: Chart Specification (Per Dataset)\n",
        "**Component Identification:**\n",
        "Based on Phase 1 analysis, identify:\n",
        "- **Metrics (指標):** Quantitative fields for measurement (y-axis candidates)\n",
        "- **Primary Axis Dimension (主軸維度):** Main dimension for x-axis\n",
        "- **Grouping/Comparison Dimension (分類比較維度):** Dimensions for data breakdown\n",
        "\n",
        "**Axis Assignment Rules:**\n",
        "- **X-axis:** Fields of type `date/datetime/space/nominal/ordinal/point/line/polygon`\n",
        "  (when serving as Primary Axis or Grouping/Comparison Dimension)\n",
        "- **Y-axis:** Fields of type `integer/float` (when serving as Metrics)\n",
        "\n",
        "## Phase 5: Filter Specification (Per Dataset)\n",
        "**Filter Categories:**\n",
        "- **Temporal Scope:** Date/time ranges (when applicable)\n",
        "- **Spatial Boundaries:** Geographic constraints (when applicable)  \n",
        "- **Category Filters:** Specific categorical values (when applicable)\n",
        "\n",
        "**Dual-Purpose Fields:** Include fields that serve both as chart dimensions and filter criteria\n",
        "\n",
        "## Phase 6: Format and Calculation Rules (Per Dataset)\n",
        "\n",
        "**Date/DateTime Fields:**\n",
        "- `format` options: `[\"year\", \"quarter\", \"month\", \"week\", \"date\", \"day\", \"weekday\", \"year_month\", \"year_quarter\", \"year_week\", \"month_day\", \"day_hour\", \"hour\", \"minute\", \"second\", \"hour_minute\", \"time\"]`\n",
        "- `operator`: `\"in\"`\n",
        "\n",
        "**Spatial Fields (space/point/line/polygon):**\n",
        "- `format`: Use most general `admin_level_x` (lowest number) based on user question context\n",
        "\n",
        "**Nominal/Integer/Float Fields:**\n",
        "- `format`: `\"\"` (empty string)\n",
        "\n",
        "**Calculation Methods:**\n",
        "- **Integer/Float:** `[\"count\", \"sum\", \"avg\", \"min\", \"max\", \"distinct_count\"]`\n",
        "- **Nominal:** `[\"count\", \"distinct_count\"]`\n",
        "\n",
        "## Phase 7: Output Generation\n",
        "**Array Construction Rules:**\n",
        "- **`x` array:** Include Primary Axis Dimension + any Grouping/Comparison Dimensions\n",
        "- **`y` array:** Include identified Metrics with appropriate calculations\n",
        "- **`filter` array:** Apply Phase 5 specifications\n",
        "\n",
        "**Important:** Grouping/Comparison Dimensions often appear in both `x` array (for grouping) and `filter` array (for category selection)\n",
        "\n",
        "# OUTPUT FORMAT\n",
        "Return results in the following JSON structure:\n",
        "\n",
        "```json\n",
        "{{\n",
        "    \"charts\": [\n",
        "        {{\n",
        "            \"id\": \"dataset_id\",\n",
        "            \"name\": \"dataset_name\",\n",
        "            \"x\": [\n",
        "                {{\n",
        "                    \"columnID\": \"column_id\",\n",
        "                    \"name\": \"field_displayName\",\n",
        "                    \"type\": \"field_type\",\n",
        "                    \"format\": \"format_specification\"\n",
        "                }}\n",
        "            ],\n",
        "            \"y\": [\n",
        "                {{\n",
        "                    \"columnID\": \"column_id\",\n",
        "                    \"name\": \"field_displayName\",\n",
        "                    \"type\": \"field_type\",\n",
        "                    \"calculation\": \"aggregate_function\"\n",
        "                }}\n",
        "            ],\n",
        "            \"filter\": [\n",
        "                {{\n",
        "                    \"columnID\": \"column_id\",\n",
        "                    \"name\": \"field_name\",\n",
        "                    \"calculation\": \"aggregate_function\",\n",
        "                    \"type\": \"field_type\",\n",
        "                    \"format\": \"format_specification\",\n",
        "                    \"operator\": \"filter_operator\",\n",
        "                    \"value\": [\"filter_value\"]\n",
        "                }}\n",
        "            ]\n",
        "        }}\n",
        "    ]\n",
        "}}\n",
        "```"
      ]
    },
    {
      "cell_type": "markdown",
      "metadata": {
        "id": "94eHrBPbu-Xp"
      },
      "source": [
        "##### **Try it yourself**\n"
      ]
    },
    {
      "cell_type": "code",
      "execution_count": null,
      "metadata": {
        "id": "RXpL_XHMW1Ti"
      },
      "outputs": [],
      "source": [
        "## Run this cell to see the outputs of the analytics_planning.\n",
        "\n",
        "response2 = PlanningNode().execute(state | response1)\n",
        "response2['response']"
      ]
    },
    {
      "cell_type": "markdown",
      "metadata": {
        "id": "FPYLM8w_GLbi"
      },
      "source": [
        "#### **3.2.3 `filter_decision`**\n"
      ]
    },
    {
      "cell_type": "markdown",
      "metadata": {
        "id": "HSNPL5GCJfZv"
      },
      "source": [
        "- **Purpose**: Determines the filtering criteria for the datasets based on the user's query.\n",
        "- **Key Steps**:\n",
        "  1. Uses the `get_filter_options` method from `AraliaClient` to retrieve filter options.\n",
        "  2. Generates a filtering prompt using `QUERY_GENERATION`.\n",
        "  3. Processes the AI response to finalize the filtering criteria.\n",
        "- **Output**: Updates the GraphState with `response` containing the filtered datasets and their filtering criteria.\n"
      ]
    },
    {
      "cell_type": "markdown",
      "metadata": {
        "id": "oaKxmFttm1fX"
      },
      "source": [
        "##### **Prompt**"
      ]
    },
    {
      "cell_type": "markdown",
      "metadata": {
        "id": "_rbcdsBGw1Bi"
      },
      "source": [
        "The default `filter_decision` prompt:"
      ]
    },
    {
      "cell_type": "markdown",
      "metadata": {
        "id": "p2Cupx69Mkmx"
      },
      "source": [
        "```\n",
        "You are a senior data analyst specializing in statistical data analysis and query optimization.\n",
        "\n",
        "## Task\n",
        "Generate optimized query configurations based on the user's question and available dataset structures.\n",
        "\n",
        "## Input\n",
        "- **User Question**: {question}\n",
        "- **Dataset Configurations**: {response}\n",
        "\n",
        "## Instructions\n",
        "\n",
        "### Core Rules\n",
        "1. **Preserve Structure**: Maintain exact same top-level keys and array structures\n",
        "2. **Modify Only**: `operator` and `value` fields in filter objects\n",
        "3. **No Additions**: Do not add new filter objects or modify other fields\n",
        "4. **No Removals**: Do not remove existing filter objects\n",
        "\n",
        "### Operator Selection\n",
        "- **Date/DateTime/Nominal/Spatial**: Use `\"in\"` operator\n",
        "- **Integer/Float**: Use `\"range\"`, `\"lt\"`, `\"gt\"`, `\"lte\"`, or `\"gte\"`\n",
        "\n",
        "### Value Specification\n",
        "- Analyze the user question carefully to determine appropriate filter values\n",
        "- For geographic locations, consider administrative boundaries and actual locations\n",
        "- For nominal categories, use exact matches from available options\n",
        "- For date ranges, specify appropriate time periods\n",
        "\n",
        "### Special Considerations\n",
        "- Some institutions may be named after one location but physically located elsewhere\n",
        "- Example: \"Taipei Motor Vehicles Office\" is actually in New Taipei City\n",
        "- Always verify geographic relationships when setting spatial filters\n",
        "\n",
        "Return the modified configuration with updated `operator` and `value` fields only.\n",
        "```"
      ]
    },
    {
      "cell_type": "markdown",
      "metadata": {
        "id": "ucphuLhqPJlv"
      },
      "source": [
        "##### **Try it yourself**"
      ]
    },
    {
      "cell_type": "code",
      "execution_count": null,
      "metadata": {
        "id": "DvMVHrO_PLdC"
      },
      "outputs": [],
      "source": [
        "## Run this cell to see the outputs of the filter_decision.\n",
        "\n",
        "response3 = FilterDecisionNode().execute(state | response2)\n",
        "response3['response']"
      ]
    },
    {
      "cell_type": "markdown",
      "metadata": {
        "id": "E5gaw1wsGZli"
      },
      "source": [
        "#### **3.2.4 `analytics_execution`**\n"
      ]
    },
    {
      "cell_type": "markdown",
      "metadata": {
        "id": "w7t_K0hlJkVG"
      },
      "source": [
        "- **Purpose**: Executes the analytics process by exploring the datasets and generating visualizations.\n",
        "- **Key Steps**:\n",
        "  1. Uses the `execute_exploration` method from `AraliaClient` to retrieve and process data.\n",
        "  2. Generates CSV files of the datasets.\n",
        "- **Output**: Updates the GraphState with `search_results` containing the processed datasets.\n"
      ]
    },
    {
      "cell_type": "markdown",
      "metadata": {
        "id": "JqAXW9WEPZlX"
      },
      "source": [
        "##### **Try it yourself**"
      ]
    },
    {
      "cell_type": "code",
      "execution_count": null,
      "metadata": {
        "id": "rf6TAttPPan4"
      },
      "outputs": [],
      "source": [
        "## Run this cell to see the outputs of the analytics_execution.\n",
        "\n",
        "response4 = ExecutionNode().execute(state | response3)\n",
        "response4"
      ]
    },
    {
      "cell_type": "markdown",
      "metadata": {
        "id": "AV9Mzj8bGe_X"
      },
      "source": [
        "#### **3.2.5 `interpretation`**\n"
      ]
    },
    {
      "cell_type": "markdown",
      "metadata": {
        "id": "MrGxprF-JngP"
      },
      "source": [
        "- **Purpose**: Interprets the results of the analytics process and generates a final response for the user.\n",
        "- **Key Steps**:\n",
        "  1. Constructs a message for the AI model with the user's query and the processed data.\n",
        "  2. Invokes the AI model to generate a concise, 300-word summary.\n",
        "- **Output**: Updates the GraphState with `final_response` containing the AI-generated summary.\n"
      ]
    },
    {
      "cell_type": "markdown",
      "metadata": {
        "id": "omjFXrYJna1s"
      },
      "source": [
        "##### **Prompt**"
      ]
    },
    {
      "cell_type": "markdown",
      "metadata": {
        "id": "i2H9g6wymqTn"
      },
      "source": [
        "The default `interpretation` prompt:"
      ]
    },
    {
      "cell_type": "markdown",
      "metadata": {
        "id": "LTPMuOQonOno"
      },
      "source": [
        "```\n",
        "You are an expert data analyst providing insights based on retrieved data.\n",
        "\n",
        "## Task\n",
        "Analyze the provided data and answer the user's question with clear, actionable insights.\n",
        "\n",
        "## Input\n",
        "- **Question**: {question}\n",
        "- **Data Results**: {search_results}\n",
        "\n",
        "## Requirements\n",
        "\n",
        "### Language Matching\n",
        "**CRITICAL**: Your response language MUST exactly match the language used in the question.\n",
        "\n",
        "### Content Requirements\n",
        "1. **Detailed Analysis**: Provide thorough analysis of the charts and data patterns\n",
        "2. **Direct Answer**: Give a clear, direct answer to the specific question asked\n",
        "3. **Concise Conclusion**: Summarize key findings in under 300 words\n",
        "4. **Evidence-Based**: Base all conclusions on the actual data provided in \"json_data\"\n",
        "\n",
        "### Structure\n",
        "1. **Data Overview**: Brief summary of the datasets analyzed\n",
        "2. **Key Findings**: Main insights from the data\n",
        "3. **Direct Answer**: Specific answer to the user's question\n",
        "4. **Conclusion**: Summary of implications and recommendations\n",
        "\n",
        "Focus on actionable insights and ensure all claims are supported by the provided data.\n",
        "```"
      ]
    },
    {
      "cell_type": "markdown",
      "metadata": {
        "id": "AFMDQ13E0fz9"
      },
      "source": [
        "**Advanced option: Set your own prompt for the interpretation node.**"
      ]
    },
    {
      "cell_type": "code",
      "execution_count": null,
      "metadata": {
        "id": "_a9DxVH_0bPi"
      },
      "outputs": [],
      "source": [
        "## Uncomment the following line of code and run this cell to overide the default prompt with your own\n",
        "\n",
        "# state[\"interpretation_prompt\"] = \"replace this text with custom prompt\""
      ]
    },
    {
      "cell_type": "code",
      "execution_count": null,
      "metadata": {
        "id": "FBEkbryQ1Tbm"
      },
      "outputs": [],
      "source": [
        "## Uncomment the following line of code to revert to the default prompt\n",
        "\n",
        "# state[\"interpretation_prompt\"] = None"
      ]
    },
    {
      "cell_type": "markdown",
      "metadata": {
        "id": "S6rHdDBmPsPq"
      },
      "source": [
        "##### **Try it yourself**"
      ]
    },
    {
      "cell_type": "code",
      "execution_count": null,
      "metadata": {
        "id": "E2ISWO1uPp0z"
      },
      "outputs": [],
      "source": [
        "## Run this cell to see the outputs of the interpretation.\n",
        "\n",
        "response5 = InterpretationNode().execute(state | response4)\n",
        "response5"
      ]
    },
    {
      "cell_type": "markdown",
      "metadata": {
        "id": "2G2kAiqnKsd2"
      },
      "source": [
        "### **3.3 Error Handling**\n"
      ]
    },
    {
      "cell_type": "markdown",
      "metadata": {
        "id": "ZnM_zRx-K20j"
      },
      "source": [
        "Each node includes error handling mechanisms to ensure robustness:\n",
        "  - **Retries**: Nodes like `aralia_search`, `analytics_planning`, and `filter_decision` retry operations up to 5 times.\n",
        "  - **Exceptions**: Nodes raise `RuntimeError` if critical operations fail (e.g., dataset retrieval, AI response generation).\n",
        "  - **Verbose output**: Step by step processes are printed to the console if `state['verbose']` is set to `True`."
      ]
    },
    {
      "cell_type": "markdown",
      "metadata": {
        "id": "sfOab5579Ulg"
      },
      "source": [
        "### **3.4 Integration with Aralia APIs**"
      ]
    },
    {
      "cell_type": "markdown",
      "metadata": {
        "id": "nH_NMhR-95YZ"
      },
      "source": [
        "The `AraliaClient` class provides methods for interacting with Aralia's APIs, such as searching for datasets, retrieving column metadata, and exploring data."
      ]
    },
    {
      "cell_type": "code",
      "execution_count": null,
      "metadata": {
        "id": "lYN9WCsWW1Hu"
      },
      "outputs": [],
      "source": [
        "# Initialize Aralia Client\n",
        "aralia_client = AraliaClient(\n",
        "    client_id=os.getenv(\"ARALIA_CLIENT_ID\"),\n",
        "    client_secret=os.getenv(\"ARALIA_CLIENT_SECRET\"),\n",
        "    sso_url=sso_url,\n",
        "    stellar_url=planet_url\n",
        ")\n",
        "\n",
        "# Search for datasets\n",
        "datasets = aralia_client.search_datasets(\"What is the average GDP growth rate of each state in Malaysia in 2019?\")\n",
        "pd.DataFrame(datasets)"
      ]
    },
    {
      "cell_type": "markdown",
      "metadata": {
        "id": "opeooZO6-kO8"
      },
      "source": [
        "### **3.5 Conclusion**\n"
      ]
    },
    {
      "cell_type": "markdown",
      "metadata": {
        "id": "Sn8gga96-m9q"
      },
      "source": [
        "This deepdive demonstrates the modular design of the AI-powered tools and its integration with Aralia's APIs. By running the provided code snippets, you can explore the functionality of each component interactively."
      ]
    }
  ]
}